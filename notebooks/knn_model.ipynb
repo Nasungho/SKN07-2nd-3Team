{
 "cells": [
  {
   "cell_type": "code",
   "execution_count": 2,
   "id": "53247156-ae6d-4c21-ae86-ed0bc861005e",
   "metadata": {},
   "outputs": [
    {
     "name": "stdout",
     "output_type": "stream",
     "text": [
      "최적의 K값: 5\n",
      "최적의 K값으로 학습한 모델의 정확도: 0.89\n"
     ]
    }
   ],
   "source": [
    "from sklearn.model_selection import train_test_split, cross_val_score\n",
    "from sklearn.preprocessing import StandardScaler\n",
    "from sklearn.neighbors import KNeighborsClassifier\n",
    "import pandas as pd\n",
    "import numpy as np\n",
    "import matplotlib.pyplot as plt \n",
    "import seaborn as sns\n",
    "\n",
    "train_file_path = \"processed_train_data.csv\"\n",
    "test_file_path = \"processed_test_data.csv\"\n",
    "\n",
    "# 데이터셋 로드\n",
    "train_data = pd.read_csv(train_file_path)\n",
    "test_data = pd.read_csv(test_file_path)\n",
    "\n",
    "train_df = train_data[train_data.Churn.notnull()].copy()\n",
    "test_df = test_data[test_data.Churn.notnull()].copy()\n",
    "\n",
    "y = train_df.pop('Churn').values\n",
    "X = train_df.values\n",
    "\n",
    "# 데이터셋 분할\n",
    "X_train, X_test, y_train, y_test = train_test_split(X, y, test_size=0.2, random_state=42)\n",
    "\n",
    "# 특징 스케일링\n",
    "# scaler = StandardScaler()\n",
    "# X_train = scaler.fit_transform(X_train)\n",
    "# X_test = scaler.transform(X_test)\n",
    "\n",
    "# 최적의 K값 찾기\n",
    "k_range = range(1, 31)\n",
    "k_scores = []\n",
    "\n",
    "for k in k_range:\n",
    "    knn = KNeighborsClassifier(n_neighbors=k)\n",
    "    scores = cross_val_score(knn, X_train, y_train, cv=10, scoring='accuracy')\n",
    "    k_scores.append(scores.mean())\n",
    "\n",
    "# 최적의 K값\n",
    "best_k = k_range[np.argmax(k_scores)]\n",
    "print(f'최적의 K값: {best_k}')\n",
    "\n",
    "# 최적의 K값으로 모델 학습 및 평가\n",
    "knn = KNeighborsClassifier(n_neighbors=best_k)\n",
    "knn.fit(X_train, y_train)\n",
    "accuracy = knn.score(X_test, y_test)\n",
    "print(f'최적의 K값으로 학습한 모델의 정확도: {accuracy:.2f}')"
   ]
  },
  {
   "cell_type": "code",
   "execution_count": null,
   "id": "81c71ee2-728b-49a7-aa99-6ac094f93dd0",
   "metadata": {},
   "outputs": [],
   "source": []
  }
 ],
 "metadata": {
  "kernelspec": {
   "display_name": "Python 3 (ipykernel)",
   "language": "python",
   "name": "python3"
  },
  "language_info": {
   "codemirror_mode": {
    "name": "ipython",
    "version": 3
   },
   "file_extension": ".py",
   "mimetype": "text/x-python",
   "name": "python",
   "nbconvert_exporter": "python",
   "pygments_lexer": "ipython3",
   "version": "3.10.15"
  }
 },
 "nbformat": 4,
 "nbformat_minor": 5
}
