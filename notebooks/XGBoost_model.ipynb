{
 "cells": [
  {
   "cell_type": "markdown",
   "id": "b9a20bc4-38e3-4e4e-8ba5-d8597425c183",
   "metadata": {},
   "source": [
    "# ● XGBoost 모델 학습 준비"
   ]
  },
  {
   "cell_type": "code",
   "execution_count": 1,
   "id": "598a0c5c-5bac-4f52-8a7b-7bb9d27aa990",
   "metadata": {},
   "outputs": [],
   "source": [
    "import pandas as pd\n",
    "from sklearn.model_selection import train_test_split\n",
    "from sklearn.preprocessing import LabelEncoder, StandardScaler\n",
    "import xgboost as xgb\n",
    "from sklearn.metrics import accuracy_score, classification_report"
   ]
  },
  {
   "cell_type": "code",
   "execution_count": 2,
   "id": "c52ce0c6-baf8-4738-a97a-c7fa3151e1cd",
   "metadata": {},
   "outputs": [],
   "source": [
    "# 데이터 로드\n",
    "train_data = pd.read_csv('/home/encore/SKN07-2nd-3Team-main/data/churn-bigml-80.csv')\n",
    "test_data = pd.read_csv('/home/encore/SKN07-2nd-3Team-main/data/churn-bigml-20.csv')"
   ]
  },
  {
   "cell_type": "code",
   "execution_count": 3,
   "id": "f4b0078c-e5c6-4061-9f47-0cb4a5ea236d",
   "metadata": {},
   "outputs": [],
   "source": [
    "# 범주형 변수 인코딩\n",
    "label_encoders = {}\n",
    "categorical_columns = ['International plan', 'Voice mail plan', 'Churn']\n",
    "for col in categorical_columns:\n",
    "    le = LabelEncoder()\n",
    "    train_data[col] = le.fit_transform(train_data[col])\n",
    "    test_data[col] = le.transform(test_data[col])\n",
    "    label_encoders[col] = le\n",
    "\n",
    "# 수치형 변수 표준화\n",
    "scaler = StandardScaler()\n",
    "numerical_columns = [\n",
    "    'Account length', 'Number vmail messages', 'Total day minutes', 'Total day calls',\n",
    "    'Total day charge', 'Total eve minutes', 'Total eve calls', 'Total eve charge',\n",
    "    'Total night minutes', 'Total night calls', 'Total night charge',\n",
    "    'Total intl minutes', 'Total intl calls', 'Total intl charge',\n",
    "    'Customer service calls'\n",
    "]\n",
    "\n",
    "train_data[numerical_columns] = scaler.fit_transform(train_data[numerical_columns])\n",
    "test_data[numerical_columns] = scaler.transform(test_data[numerical_columns])"
   ]
  },
  {
   "cell_type": "code",
   "execution_count": 4,
   "id": "5d51ed7c-171b-40e6-8194-6fcf371c3983",
   "metadata": {},
   "outputs": [],
   "source": [
    "# 특성과 타겟 변수 분리\n",
    "X_train = train_data.drop(columns=['Churn', 'State', 'Area code'], axis=1)\n",
    "y_train = train_data['Churn']\n",
    "X_test = test_data.drop(columns=['Churn', 'State', 'Area code'], axis=1)\n",
    "y_test = test_data['Churn']"
   ]
  },
  {
   "cell_type": "markdown",
   "id": "1e94cf3e-a198-4871-946a-52e1a09b6139",
   "metadata": {},
   "source": [
    "# ● 하이퍼파라미터 설정"
   ]
  },
  {
   "cell_type": "markdown",
   "id": "e7217e45-3959-4412-9bf1-37197c79de91",
   "metadata": {},
   "source": [
    "## ○ GridSearchCV (그리드 탐색)"
   ]
  },
  {
   "cell_type": "code",
   "execution_count": 5,
   "id": "96da98c7-9e5b-45a4-bd82-8ceccf85b746",
   "metadata": {},
   "outputs": [],
   "source": [
    "from sklearn.model_selection import GridSearchCV\n",
    "import xgboost as xgb"
   ]
  },
  {
   "cell_type": "code",
   "execution_count": 6,
   "id": "33697dc5-e585-40cd-91d6-c911eb90d5f8",
   "metadata": {},
   "outputs": [],
   "source": [
    "# XGBoost 모델 초기화\n",
    "xgb_model = xgb.XGBClassifier()"
   ]
  },
  {
   "cell_type": "code",
   "execution_count": 7,
   "id": "f70624dc-1429-472b-8b36-abcc234fba54",
   "metadata": {},
   "outputs": [],
   "source": [
    "# 하이퍼파라미터 그리드 정의\n",
    "param_grid = {\n",
    "    'learning_rate': [0.01, 0.1, 0.2],  # 학습률\n",
    "    'max_depth': [3, 6, 9],  # 트리의 최대 깊이\n",
    "    'n_estimators': [50, 100, 150],  # 트리의 개수\n",
    "    'subsample': [0.8, 0.9, 1.0],  # 샘플링 비율\n",
    "    'colsample_bytree': [0.8, 0.9, 1.0],  # 특성 샘플링 비율\n",
    "    'min_child_weight': [1, 3, 5],  # 리프 노드의 최소 가중치 합\n",
    "}"
   ]
  },
  {
   "cell_type": "code",
   "execution_count": 8,
   "id": "8773cbcf-e227-4e1a-bc81-36c666f05c44",
   "metadata": {},
   "outputs": [],
   "source": [
    "# GridSearchCV 객체 생성 (교차 검증 5번)\n",
    "grid_search = GridSearchCV(estimator=xgb_model, param_grid=param_grid, cv=5, n_jobs=-1, scoring='accuracy')"
   ]
  },
  {
   "cell_type": "code",
   "execution_count": null,
   "id": "364d2136-97a5-4cd9-9742-f25634c62887",
   "metadata": {},
   "outputs": [],
   "source": [
    "# 훈련 데이터로 학습\n",
    "grid_search.fit(X_train, y_train)\n",
    "\n",
    "# 최적의 하이퍼파라미터 출력\n",
    "print(\"Best Hyperparameters:\", grid_search.best_params_)\n",
    "\n",
    "# 최적의 모델 평가\n",
    "best_model = grid_search.best_estimator_\n",
    "y_pred = best_model.predict(X_test)\n",
    "accuracy = accuracy_score(y_test, y_pred)\n",
    "print(f\"Accuracy: {accuracy}.\")"
   ]
  },
  {
   "cell_type": "markdown",
   "id": "a58c8396-1c73-4167-8efa-757e95e51065",
   "metadata": {},
   "source": [
    "## ○ RandomizedSearchCV (랜덤 탐색) 코드"
   ]
  },
  {
   "cell_type": "code",
   "execution_count": null,
   "id": "4e848a9e-df63-4c1e-96f5-1f4b39e450ce",
   "metadata": {},
   "outputs": [],
   "source": [
    "from sklearn.model_selection import RandomizedSearchCV\n",
    "import xgboost as xgb\n",
    "import numpy as np"
   ]
  },
  {
   "cell_type": "code",
   "execution_count": null,
   "id": "621bfcc7-9c73-44e4-8380-00d531e1ea73",
   "metadata": {},
   "outputs": [],
   "source": [
    "# XGBoost 모델 초기화\n",
    "xgb_model = xgb.XGBClassifier()"
   ]
  },
  {
   "cell_type": "code",
   "execution_count": null,
   "id": "14116d57-33af-4dbd-9180-cc3a3b49ff87",
   "metadata": {},
   "outputs": [],
   "source": [
    "# 하이퍼파라미터 범위 정의\n",
    "param_dist = {\n",
    "    'learning_rate': np.arange(0.01, 0.2, 0.01),  # 학습률 범위\n",
    "    'max_depth': [3, 6, 9, 12],  # 트리의 최대 깊이\n",
    "    'n_estimators': [50, 100, 150, 200],  # 트리의 개수\n",
    "    'subsample': np.arange(0.7, 1.0, 0.05),  # 샘플링 비율\n",
    "    'colsample_bytree': np.arange(0.7, 1.0, 0.05),  # 특성 샘플링 비율\n",
    "    'min_child_weight': [1, 3, 5, 7],  # 리프 노드의 최소 가중치 합\n",
    "}"
   ]
  },
  {
   "cell_type": "code",
   "execution_count": null,
   "id": "b2e40476-78bc-41e8-abac-c48decee49f4",
   "metadata": {},
   "outputs": [],
   "source": [
    "# RandomizedSearchCV 객체 생성 (교차 검증 5번)\n",
    "random_search = RandomizedSearchCV(estimator=xgb_model, param_distributions=param_dist, n_iter=50, cv=5, n_jobs=-1, scoring='accuracy')"
   ]
  },
  {
   "cell_type": "code",
   "execution_count": null,
   "id": "a9aa7103-7669-4399-b90d-19f260271ace",
   "metadata": {},
   "outputs": [],
   "source": [
    "# 훈련 데이터로 학습\n",
    "random_search.fit(X_train, y_train)\n",
    "\n",
    "# 최적의 하이퍼파라미터 출력\n",
    "print(\"Best Hyperparameters:\", random_search.best_params_)\n",
    "\n",
    "# 최적의 모델 평가\n",
    "best_model = random_search.best_estimator_\n",
    "y_pred = best_model.predict(X_test)\n",
    "accuracy = accuracy_score(y_test, y_pred)\n",
    "print(f\"Accuracy: {accuracy}\")"
   ]
  },
  {
   "cell_type": "markdown",
   "id": "6f3a4b5e-4897-468c-9b91-5da3f1bcfb44",
   "metadata": {},
   "source": [
    "# ● 모델 학습"
   ]
  },
  {
   "cell_type": "code",
   "execution_count": null,
   "id": "535208c2-e3a0-4044-a742-c9b077e92d8a",
   "metadata": {
    "scrolled": true
   },
   "outputs": [],
   "source": [
    "from sklearn.metrics import accuracy_score, classification_report\n",
    "\n",
    "# 최적 하이퍼파라미터로 모델 학습이 완료되었으므로, best_estimator_를 사용하여 예측을 시작합니다.\n",
    "best_model = grid_search.best_estimator_  # 최적 모델 가져오기\n",
    "\n",
    "# 모델 예측 (테스트 데이터에 대해 예측 수행)\n",
    "y_pred = best_model.predict(X_test)  # 예측 값 생성\n",
    "\n",
    "# 모델 성능 평가\n",
    "accuracy = accuracy_score(y_test, y_pred)  # 정확도 계산\n",
    "print(f\"Accuracy: {accuracy:.4f}\")  # 정확도 출력\n",
    "\n",
    "# 더 상세한 평가 지표 (정밀도, 재현율, f1-score 등)\n",
    "print(\"Classification Report:\")\n",
    "print(classification_report(y_test, y_pred))  # 분류 리포트 출력"
   ]
  },
  {
   "cell_type": "markdown",
   "id": "e8fc750e-9bfd-45ac-96a3-22ee2d7c2229",
   "metadata": {},
   "source": [
    "# ● 예측 및 평가"
   ]
  },
  {
   "cell_type": "code",
   "execution_count": null,
   "id": "3b61a16e-75b1-43b3-991b-3d602d0e4d9c",
   "metadata": {},
   "outputs": [],
   "source": [
    "from sklearn.metrics import accuracy_score, classification_report, confusion_matrix\n",
    "import seaborn as sns\n",
    "import matplotlib.pyplot as plt\n",
    "\n",
    "# 최적 모델 가져오기\n",
    "best_model = grid_search.best_estimator_\n",
    "\n",
    "# 테스트 데이터 예측\n",
    "y_pred = best_model.predict(X_test)\n",
    "\n",
    "# 정확도 출력\n",
    "accuracy = accuracy_score(y_test, y_pred)\n",
    "print(f\"Accuracy: {accuracy:.4f}\")\n",
    "\n",
    "# 분류 보고서 출력 (정밀도, 재현율, F1-score 등)\n",
    "print(\"Classification Report:\")\n",
    "print(classification_report(y_test, y_pred))\n",
    "\n",
    "# 혼동 행렬 계산\n",
    "conf_matrix = confusion_matrix(y_test, y_pred)\n",
    "\n",
    "# 혼동 행렬 시각화\n",
    "plt.figure(figsize=(8, 6))\n",
    "sns.heatmap(conf_matrix, annot=True, fmt='d', cmap='Blues', xticklabels=['No Churn', 'Churn'], yticklabels=['No Churn', 'Churn'])\n",
    "plt.title('Confusion Matrix')\n",
    "plt.xlabel('Predicted Labels')\n",
    "plt.ylabel('True Labels')\n",
    "plt.tight_layout()\n",
    "plt.show()"
   ]
  },
  {
   "cell_type": "markdown",
   "id": "d791b18e-2206-4197-8cc3-cf4c95242c56",
   "metadata": {},
   "source": [
    "# ●  모델 튜닝"
   ]
  },
  {
   "cell_type": "code",
   "execution_count": null,
   "id": "a385b148-f1c4-404f-b0bc-cd9397f7864f",
   "metadata": {},
   "outputs": [],
   "source": [
    "from sklearn.model_selection import RandomizedSearchCV\n",
    "import xgboost as xgb\n",
    "from sklearn.metrics import accuracy_score, classification_report\n",
    "\n",
    "# XGBoost 모델 초기화\n",
    "xgb_model = xgb.XGBClassifier()\n",
    "\n",
    "# 하이퍼파라미터 탐색 범위 (좁게 설정)\n",
    "param_dist = {\n",
    "    'learning_rate': [0.05, 0.1, 0.15],  # 학습률\n",
    "    'max_depth': [4, 5, 6],  # 트리 최대 깊이\n",
    "    'n_estimators': [100, 150, 200],  # 트리의 개수\n",
    "    'subsample': [0.85, 0.9, 0.95],  # 샘플링 비율\n",
    "    'colsample_bytree': [0.85, 0.9, 0.95],  # 특성 샘플링 비율\n",
    "    'min_child_weight': [1, 2, 3],  # 리프 노드의 최소 가중치 합\n",
    "    'gamma': [0, 0.1, 0.2],  # 손실 감소 최소값\n",
    "}\n",
    "\n",
    "# RandomizedSearchCV 사용 (랜덤으로 조합 탐색, 10번 반복)\n",
    "random_search = RandomizedSearchCV(\n",
    "    estimator=xgb_model,\n",
    "    param_distributions=param_dist,\n",
    "    n_iter=10,  # 시도할 하이퍼파라미터 조합 수\n",
    "    scoring='accuracy',  # 평가 기준\n",
    "    cv=5,  # 교차 검증 수\n",
    "    n_jobs=-1,  # 병렬 처리\n",
    "    random_state=42  # 재현성을 위한 랜덤 시드\n",
    ")\n",
    "\n",
    "# 훈련 데이터로 학습\n",
    "random_search.fit(X_train, y_train)\n",
    "\n",
    "# 최적 하이퍼파라미터 및 성능 출력\n",
    "print(\"Best Hyperparameters:\", random_search.best_params_)\n",
    "\n",
    "# 최적 모델 평가\n",
    "best_tuned_model = random_search.best_estimator_\n",
    "y_pred_tuned = best_tuned_model.predict(X_test)\n",
    "\n",
    "# 평가 결과 출력\n",
    "accuracy_tuned = accuracy_score(y_test, y_pred_tuned)\n",
    "print(f\"Accuracy after Tuning: {accuracy_tuned}\")\n",
    "print(\"\\nClassification Report:\\n\", classification_report(y_test, y_pred_tuned))"
   ]
  },
  {
   "cell_type": "markdown",
   "id": "762bc03c-3243-44b8-8333-6b58ff57993d",
   "metadata": {},
   "source": [
    "# ● 피처 중요도 확인"
   ]
  },
  {
   "cell_type": "markdown",
   "id": "b71f8c1e-e45e-49fa-9ac2-d44e60042c1a",
   "metadata": {},
   "source": [
    "## ○ 피처 중요도 추출 및 출력"
   ]
  },
  {
   "cell_type": "code",
   "execution_count": null,
   "id": "37ac4a0e-e983-4429-bf83-15ffa0353a89",
   "metadata": {},
   "outputs": [],
   "source": [
    "# 피처 중요도 추출\n",
    "feature_importances = best_model.feature_importances_\n",
    "\n",
    "# 중요도를 데이터프레임 형태로 정리\n",
    "import pandas as pd\n",
    "importance_df = pd.DataFrame({\n",
    "    'Feature': X_train.columns,  # 특성 이름\n",
    "    'Importance': feature_importances  # 중요도 값\n",
    "}).sort_values(by='Importance', ascending=False)  # 중요도 기준으로 내림차순 정렬\n",
    "\n",
    "# 중요도 데이터 출력\n",
    "print(importance_df)"
   ]
  },
  {
   "cell_type": "markdown",
   "id": "0014385d-b706-44af-9d37-6055a6967d2a",
   "metadata": {},
   "source": [
    "## ○ 피처 중요도 시각화"
   ]
  },
  {
   "cell_type": "code",
   "execution_count": null,
   "id": "2facc51e-cf1d-44a5-b6be-72f3a7f2a1a6",
   "metadata": {},
   "outputs": [],
   "source": [
    "import matplotlib.pyplot as plt\n",
    "import seaborn as sns\n",
    "\n",
    "# 피처 중요도 시각화\n",
    "plt.figure(figsize=(12, 8))\n",
    "sns.barplot(x='Importance', y='Feature', data=importance_df, palette='viridis')\n",
    "plt.title('Feature Importance', fontsize=16)\n",
    "plt.xlabel('Importance', fontsize=12)\n",
    "plt.ylabel('Feature', fontsize=12)\n",
    "plt.tight_layout()\n",
    "plt.show()"
   ]
  },
  {
   "cell_type": "markdown",
   "id": "e0a3e351-d46f-4b78-81fb-fd321b9784bf",
   "metadata": {},
   "source": [
    "# ● 예측 정확도 확인"
   ]
  },
  {
   "cell_type": "code",
   "execution_count": null,
   "id": "66d76b77-0fe0-41df-91e9-2ea48d1f55b0",
   "metadata": {},
   "outputs": [],
   "source": [
    "from sklearn.metrics import accuracy_score\n",
    "\n",
    "# 테스트 데이터에 대한 예측\n",
    "y_pred = best_model.predict(X_test)\n",
    "\n",
    "# 정확도 계산\n",
    "accuracy = accuracy_score(y_test, y_pred)\n",
    "print(f\"Accuracy: {accuracy:.2f}\")"
   ]
  }
 ],
 "metadata": {
  "kernelspec": {
   "display_name": "Python 3 (ipykernel)",
   "language": "python",
   "name": "python3"
  },
  "language_info": {
   "codemirror_mode": {
    "name": "ipython",
    "version": 3
   },
   "file_extension": ".py",
   "mimetype": "text/x-python",
   "name": "python",
   "nbconvert_exporter": "python",
   "pygments_lexer": "ipython3",
   "version": "3.10.15"
  }
 },
 "nbformat": 4,
 "nbformat_minor": 5
}
